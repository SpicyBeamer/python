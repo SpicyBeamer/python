{
 "cells": [
  {
   "cell_type": "code",
   "execution_count": 7,
   "id": "73d92596",
   "metadata": {},
   "outputs": [
    {
     "name": "stdout",
     "output_type": "stream",
     "text": [
      "What is your name: bond\n",
      "Welcome abord 007\n"
     ]
    }
   ],
   "source": [
    "name=input(\"What is your name: \")\n",
    "if (name.lower()==\"bond\"):\n",
    "    print(\"Welcome abord 007\")\n",
    "else:\n",
    "    print(\"Good Morning \"+name)"
   ]
  },
  {
   "cell_type": "code",
   "execution_count": 16,
   "id": "af228604",
   "metadata": {},
   "outputs": [
    {
     "name": "stdout",
     "output_type": "stream",
     "text": [
      "Give me a whole number: 13\n",
      "Hey! Did you know 13.0 is an odd number\n"
     ]
    }
   ],
   "source": [
    "num=float(input(\"Give me a whole number: \"))\n",
    "if(num%2==0):\n",
    "    print(\"Hey! Did you know \" +str(num)+ \" is an even number\")\n",
    "elif(num%2==1):\n",
    "    print(\"Hey! Did you know \" +str(num)+ \" is an odd number\")\n",
    "else:\n",
    "    print(\"Sorry that is not a input\")\n",
    "    "
   ]
  },
  {
   "cell_type": "code",
   "execution_count": 25,
   "id": "565d7312",
   "metadata": {},
   "outputs": [
    {
     "name": "stdout",
     "output_type": "stream",
     "text": [
      "do you want to play a game(yes/no): yes\n",
      "Great, Lets start!\n"
     ]
    },
    {
     "ename": "NameError",
     "evalue": "name 'quest2' is not defined",
     "output_type": "error",
     "traceback": [
      "\u001b[1;31m---------------------------------------------------------------------------\u001b[0m",
      "\u001b[1;31mNameError\u001b[0m                                 Traceback (most recent call last)",
      "\u001b[1;32m<ipython-input-25-0ef5adc281a6>\u001b[0m in \u001b[0;36m<module>\u001b[1;34m\u001b[0m\n\u001b[0;32m      4\u001b[0m \u001b[1;32melif\u001b[0m \u001b[1;33m(\u001b[0m\u001b[0mquestion1\u001b[0m\u001b[1;33m.\u001b[0m\u001b[0mlower\u001b[0m\u001b[1;33m(\u001b[0m\u001b[1;33m)\u001b[0m\u001b[1;33m==\u001b[0m\u001b[1;34m\"no\"\u001b[0m\u001b[1;33m)\u001b[0m\u001b[1;33m:\u001b[0m\u001b[1;33m\u001b[0m\u001b[1;33m\u001b[0m\u001b[0m\n\u001b[0;32m      5\u001b[0m     \u001b[0mquest2\u001b[0m\u001b[1;33m=\u001b[0m\u001b[0minput\u001b[0m\u001b[1;33m(\u001b[0m\u001b[1;34m\"Are you sure you dont want to play\"\u001b[0m\u001b[1;33m)\u001b[0m\u001b[1;33m\u001b[0m\u001b[1;33m\u001b[0m\u001b[0m\n\u001b[1;32m----> 6\u001b[1;33m \u001b[1;32mif\u001b[0m \u001b[1;33m(\u001b[0m\u001b[0mquest2\u001b[0m\u001b[1;33m.\u001b[0m\u001b[0mlower\u001b[0m\u001b[1;33m(\u001b[0m\u001b[1;33m)\u001b[0m\u001b[1;33m==\u001b[0m\u001b[1;34m\"yes\"\u001b[0m\u001b[1;33m)\u001b[0m\u001b[1;33m:\u001b[0m\u001b[1;33m\u001b[0m\u001b[1;33m\u001b[0m\u001b[0m\n\u001b[0m\u001b[0;32m      7\u001b[0m     \u001b[0mprint\u001b[0m\u001b[1;33m(\u001b[0m\u001b[1;34m\"I knew you were a real gamer\"\u001b[0m\u001b[1;33m)\u001b[0m\u001b[1;33m\u001b[0m\u001b[1;33m\u001b[0m\u001b[0m\n\u001b[0;32m      8\u001b[0m \u001b[1;32melif\u001b[0m \u001b[1;33m(\u001b[0m\u001b[0mquest2\u001b[0m\u001b[1;33m.\u001b[0m\u001b[0mlower\u001b[0m\u001b[1;33m(\u001b[0m\u001b[1;33m)\u001b[0m\u001b[1;33m==\u001b[0m\u001b[1;34m\"no\"\u001b[0m\u001b[1;33m)\u001b[0m\u001b[1;33m:\u001b[0m\u001b[1;33m\u001b[0m\u001b[1;33m\u001b[0m\u001b[0m\n",
      "\u001b[1;31mNameError\u001b[0m: name 'quest2' is not defined"
     ]
    }
   ],
   "source": [
    "question1=input(\"do you want to play a game(yes/no): \")\n",
    "if (question1.lower()==\"yes\"):\n",
    "    print(\"Great, Lets start!\")\n",
    "elif (question1.lower()==\"no\"):\n",
    "    quest2=input(\"Are you sure you dont want to play\")\n",
    "if (quest2.lower()==\"yes\"):\n",
    "    print(\"I knew you were a real gamer\")\n",
    "elif (quest2.lower()==\"no\"):\n",
    "    print(\"well fine then party pooper:(\")\n",
    "    \n",
    "else:\n",
    "         print(\"You just like to watch the world burn\")\n",
    "\n",
    "\n",
    "                   \n",
    "    \n",
    "       \n",
    "\n",
    "\n",
    "    \n",
    "                \n",
    "                \n",
    "        \n",
    "        \n",
    "    \n",
    "        \n",
    "\n",
    "    \n"
   ]
  },
  {
   "cell_type": "code",
   "execution_count": 21,
   "id": "1dc9d63c",
   "metadata": {},
   "outputs": [
    {
     "name": "stdout",
     "output_type": "stream",
     "text": [
      "What is your username yes\n",
      "What is your password dsv\n",
      "Incorrect username or password\n"
     ]
    }
   ],
   "source": [
    "user=input(\"What is your username \")\n",
    "pas=input(\"What is your password \")\n",
    "if (user.lower()==\"rustiscool\"):\n",
    "    print(\"Correct password: \"+user)\n",
    "else:\n",
    "    print(\"Incorrect username or password\")\n",
    "\n",
    "if (pas.lower()==\"2007$\"):\n",
    "    print(\"Correct Username: \"+pas)\n",
    "else:  \n",
    "    (\"incorrect user or password\")\n",
    "    \n"
   ]
  },
  {
   "cell_type": "code",
   "execution_count": 3,
   "id": "65a93d32",
   "metadata": {},
   "outputs": [
    {
     "ename": "NameError",
     "evalue": "name 'sleep' is not defined",
     "output_type": "error",
     "traceback": [
      "\u001b[1;31m---------------------------------------------------------------------------\u001b[0m",
      "\u001b[1;31mNameError\u001b[0m                                 Traceback (most recent call last)",
      "\u001b[1;32m<ipython-input-3-26d13dbb1ac8>\u001b[0m in \u001b[0;36m<module>\u001b[1;34m\u001b[0m\n\u001b[1;32m----> 1\u001b[1;33m \u001b[0msleep\u001b[0m\u001b[1;33m(\u001b[0m\u001b[1;36m2\u001b[0m\u001b[1;33m)\u001b[0m\u001b[1;33m\u001b[0m\u001b[1;33m\u001b[0m\u001b[0m\n\u001b[0m",
      "\u001b[1;31mNameError\u001b[0m: name 'sleep' is not defined"
     ]
    }
   ],
   "source": []
  },
  {
   "cell_type": "code",
   "execution_count": 27,
   "id": "45965bf1",
   "metadata": {},
   "outputs": [
    {
     "name": "stdout",
     "output_type": "stream",
     "text": [
      "Hello user welcome to the game: \n",
      "Would you like to create a username and password?: yes\n",
      "Please enter a Username: s\n",
      "Please enter a password: s\n",
      "Please Re enter Username: s\n",
      "Please Re enter Password: s\n",
      "Correct Username\n",
      "Correct Password\n",
      "Hello<s>you made it past the login page, Good Job!:\n",
      "Welcome to my game<s>\n",
      "Hello i am Gim a friendly AI robot i enjoy making games for mortals like you to play, I have created a text based story you    will have 3 places to chose from to play in va, ny, and fl. Which would you like to Choose?: va\n",
      "You have Chosen Virginia, The most Bipolar State\n",
      "Virginia is a weird state lets get going before anyting happens\n",
      "Nice lets get on the plane and head there:\n",
      "You have just landed in:va\n",
      "Hello: s I am Gim i will be joining you on this adventure vaIs a great choice, would you like to get a uber or walkuber\n",
      "your uber has arrived you open the door and step inside this strange persons car. They greet you with a smile and a hand shake there name is Carla.\n",
      "Carla asks you where you would like to go...:Where would you like to go, the racetrack or the mall: racetrack\n",
      "Carla drives to the race track\n"
     ]
    }
   ],
   "source": [
    "fl=(\"Florida is a great choice lets get stated\")\n",
    "va=(\"Virginia is a weird state lets get going before anyting happens\")\n",
    "ny=(\" New York is a nice place full of shops and people lets get going\")\n",
    "\n",
    "ques1=\"\"\n",
    "from time import time\n",
    "\n",
    "print(\"Hello user welcome to the game: \")\n",
    "ques=input(\"Would you like to create a username and password?: \")\n",
    "if (ques.lower()==\"yes\"):\n",
    "    user1=input(\"Please enter a Username: \")\n",
    "    pas1=input(\"Please enter a password: \")\n",
    "elif (ques.lower()==\"no\"):\n",
    "    print(\"Ok then have fun doing nothing!\")\n",
    "else:\n",
    "    print(\"Now you have to restart\")\n",
    "    time.stop\n",
    "user2=input(\"Please Re enter Username: \")\n",
    "pas2=input(\"Please Re enter Password: \")\n",
    "if (user2.lower()==user1.lower()):\n",
    "    print(\"Correct Username\")\n",
    "else:\n",
    "    print(\"Incorrect Username\")\n",
    "    time.stop\n",
    "\n",
    "if (pas2.lower()==pas1.lower()):\n",
    "    print(\"Correct Password\")\n",
    "else:\n",
    "    print(\"Incorrect Password\")\n",
    "print(\"Hello<\"+user1+\">you made it past the login page, Good Job!:\")\n",
    "\n",
    "\n",
    "print(\"Welcome to my game<\"+user1+\">\")\n",
    "\n",
    "bkstry=input(\"Hello i am Gim a friendly AI robot i enjoy making games for mortals like you to play, I have created a text based story you    will have 3 places to chose from to play in va, ny, and fl. Which would you like to Choose?: \")      \n",
    "if (bkstry.lower()==\"fl\"):\n",
    "    print(\"You have chosen Florida, Home of Florida man\")\n",
    "    print(fl)\n",
    "elif (bkstry.lower()==\"va\"):\n",
    "    print(\"You have Chosen Virginia, The most Bipolar State\")\n",
    "    print(va)\n",
    "        \n",
    "    print(\"Nice lets get on the plane and head there:\")\n",
    "    print(\"You have just landed in:\"+bkstry)\n",
    "    uow=input(\"Hello: \"+user1+\" I am Gim i will be joining you on this adventure \"+bkstry+\"Is a great choice, would you like to get a uber or walk\")\n",
    "    if (uow.lower()==\"uber\"):\n",
    "        print(\"your uber has arrived you open the door and step inside this strange persons car. They greet you with a smile and a hand shake there name is Carla.\")\n",
    "\n",
    "    elif (uow.lower()==\"walk\"):\n",
    "        print(\"You start walking\")\n",
    "        print(\"While walking down the highway you are hit by a truck and die\")\n",
    "        time.stop\n",
    "    else:\n",
    "        print(\"You have to restart\")\n",
    "        time.stop\n",
    "    ques1=input(\"Carla asks you where you would like to go...:Where would you like to go, the racetrack or the mall: \")    \n",
    "\n",
    "    if (ques1.lower()==\"racetrack\"):\n",
    "        print(\"Carla drives to the race track\")\n",
    "    elif (ques1.lower()==\"mall\"):\n",
    "        print(\"Carla drives to the mall\")\n",
    "    else:\n",
    "        print(\"You have to restart\")\n",
    "        time.stop\n",
    "elif (bkstry.lower()==\"ny\"):\n",
    "    print(\"Your have Chosen New York, Watch out for the Mafia\")\n",
    "    print(ny)\n",
    "else:\n",
    "    print(\"Make sure u spelled it right Mr.Betterton\")\n",
    "    \n",
    "    \n",
    "    \n",
    "    \n",
    "    \n",
    "\n",
    "\n",
    "    \n",
    "\n",
    "\n",
    "\n",
    "    \n",
    "\n",
    "\n",
    "    \n",
    "    \n",
    "    \n",
    "    \n",
    "        \n",
    "    \n",
    "    "
   ]
  },
  {
   "cell_type": "code",
   "execution_count": null,
   "id": "6b34f7b3",
   "metadata": {},
   "outputs": [],
   "source": []
  },
  {
   "cell_type": "code",
   "execution_count": null,
   "id": "641f5982",
   "metadata": {},
   "outputs": [],
   "source": []
  }
 ],
 "metadata": {
  "kernelspec": {
   "display_name": "Python 3",
   "language": "python",
   "name": "python3"
  },
  "language_info": {
   "codemirror_mode": {
    "name": "ipython",
    "version": 3
   },
   "file_extension": ".py",
   "mimetype": "text/x-python",
   "name": "python",
   "nbconvert_exporter": "python",
   "pygments_lexer": "ipython3",
   "version": "3.8.8"
  }
 },
 "nbformat": 4,
 "nbformat_minor": 5
}
